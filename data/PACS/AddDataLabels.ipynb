{
 "cells": [
  {
   "cell_type": "code",
   "execution_count": 3,
   "metadata": {
    "collapsed": true
   },
   "outputs": [],
   "source": [
    "directory= \"kfold\"\n",
    "domainList = [\"art_painting\",\"cartoon\",\"photo\",\"sketch\"]\n",
    "all_data_path=[]\n",
    "for domain_name in domainList:\n",
    "    with open(f'{domain_name}_to_label.txt') as f:\n",
    "        lines = f.readlines()\n",
    "        for line in lines:\n",
    "            all_data_path.append( str(\"kfold\"+line.split()[0]))"
   ]
  },
  {
   "cell_type": "code",
   "execution_count": 5,
   "outputs": [
    {
     "data": {
      "text/plain": "400"
     },
     "execution_count": 5,
     "metadata": {},
     "output_type": "execute_result"
    }
   ],
   "source": [
    "len(all_data_path)"
   ],
   "metadata": {
    "collapsed": false
   }
  },
  {
   "cell_type": "code",
   "execution_count": 6,
   "outputs": [],
   "source": [
    "import json\n",
    "f = open('labelFile.json')\n",
    "data = json.load(f)\n",
    "\n"
   ],
   "metadata": {
    "collapsed": false
   }
  },
  {
   "cell_type": "markdown",
   "source": [
    "for each group find uniqe discriptions and usethem to label are files"
   ],
   "metadata": {
    "collapsed": false
   }
  },
  {
   "cell_type": "code",
   "execution_count": 8,
   "outputs": [],
   "source": [
    "artpaintDescriptions=[]\n",
    "cartoonDescriptions=[]\n",
    "photoDescriptions=[]\n",
    "sketchDescriptions=[]\n",
    "for info in data:\n",
    "    if str(info[\"image_name\"]).startswith(\"art_painting\"):\n",
    "        artpaintDescriptions.append(info[\"descriptions\"])\n",
    "    elif str(info[\"image_name\"]).startswith(\"cartoon\"):\n",
    "        cartoonDescriptions.append(info[\"descriptions\"])\n",
    "    elif str(info[\"image_name\"]).startswith(\"photo\"):\n",
    "        photoDescriptions.append(info[\"descriptions\"])\n",
    "    else:\n",
    "        sketchDescriptions.append(info[\"descriptions\"])\n",
    "\n"
   ],
   "metadata": {
    "collapsed": false
   }
  },
  {
   "cell_type": "code",
   "execution_count": 12,
   "outputs": [],
   "source": [
    "import pandas as pd\n",
    "columns = ['Level of details','Edges','Color saturation',\n",
    "           'Color shades','Background','Single instance',\n",
    "           'Text','Texture','Perspective']\n",
    "artPaintingDf = pd.DataFrame(artpaintDescriptions, columns=columns)\n",
    "photoDf = pd.DataFrame(photoDescriptions, columns=columns)\n",
    "cartoonDf = pd.DataFrame(cartoonDescriptions, columns=columns)\n",
    "sketchDf = pd.DataFrame(sketchDescriptions, columns=columns)"
   ],
   "metadata": {
    "collapsed": false
   }
  },
  {
   "cell_type": "code",
   "execution_count": 14,
   "outputs": [
    {
     "data": {
      "text/plain": "array(['detailed, digital, delineated, artificial', 'detailed, intricate',\n       'detailed, grainy', 'delineated, grainy level details details',\n       'digital, detailed', 'mid level details',\n       'detailed, artificial, digital',\n       'detailed, representational, grainy',\n       'grainy, detailed, representational', 'detailed, delineated',\n       'grainy, representational level details details',\n       'detailed, elaborate', 'high level details',\n       'detailed, representational', 'detailed, grainy, elaborate',\n       'low level details', 'delineated, patchy level details details'],\n      dtype=object)"
     },
     "execution_count": 14,
     "metadata": {},
     "output_type": "execute_result"
    }
   ],
   "source": [
    "uniqeValues = artPaintingDf[\"Level of details\"].unique()"
   ],
   "metadata": {
    "collapsed": false
   }
  },
  {
   "cell_type": "code",
   "execution_count": null,
   "outputs": [],
   "source": [],
   "metadata": {
    "collapsed": false
   }
  }
 ],
 "metadata": {
  "kernelspec": {
   "display_name": "Python 3",
   "language": "python",
   "name": "python3"
  },
  "language_info": {
   "codemirror_mode": {
    "name": "ipython",
    "version": 2
   },
   "file_extension": ".py",
   "mimetype": "text/x-python",
   "name": "python",
   "nbconvert_exporter": "python",
   "pygments_lexer": "ipython2",
   "version": "2.7.6"
  }
 },
 "nbformat": 4,
 "nbformat_minor": 0
}
